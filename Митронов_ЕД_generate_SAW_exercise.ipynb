{
 "cells": [
  {
   "cell_type": "markdown",
   "metadata": {},
   "source": [
    "# I. Generate all lattice walks, 2D square lattice"
   ]
  },
  {
   "cell_type": "code",
   "execution_count": 1,
   "metadata": {
    "collapsed": true
   },
   "outputs": [],
   "source": [
    "# This I showed in class:\n",
    "\n",
    "\n",
    "steps = [(1, 0), (-1, 0), (0, 1), (0, -1)]\n",
    "\n",
    "def generate_walks(path, L):\n",
    "    \"\"\"Generate all random walks on the 2D square lattice.\"\"\"\n",
    "    if L == 0:\n",
    "        print(path)\n",
    "    else:\n",
    "        for dx, dy in steps:\n",
    "            x, y = path[-1]\n",
    "            pp = path.copy()\n",
    "            pp.append((x + dx, y + dy))\n",
    "            generate_walks(pp, L - 1)"
   ]
  },
  {
   "cell_type": "code",
   "execution_count": 3,
   "metadata": {},
   "outputs": [
    {
     "name": "stdout",
     "output_type": "stream",
     "text": [
      "[(0, 0), (1, 0), (2, 0)]\n",
      "[(0, 0), (1, 0), (0, 0)]\n",
      "[(0, 0), (1, 0), (1, 1)]\n",
      "[(0, 0), (1, 0), (1, -1)]\n",
      "[(0, 0), (-1, 0), (0, 0)]\n",
      "[(0, 0), (-1, 0), (-2, 0)]\n",
      "[(0, 0), (-1, 0), (-1, 1)]\n",
      "[(0, 0), (-1, 0), (-1, -1)]\n",
      "[(0, 0), (0, 1), (1, 1)]\n",
      "[(0, 0), (0, 1), (-1, 1)]\n",
      "[(0, 0), (0, 1), (0, 2)]\n",
      "[(0, 0), (0, 1), (0, 0)]\n",
      "[(0, 0), (0, -1), (1, -1)]\n",
      "[(0, 0), (0, -1), (-1, -1)]\n",
      "[(0, 0), (0, -1), (0, 0)]\n",
      "[(0, 0), (0, -1), (0, -2)]\n"
     ]
    }
   ],
   "source": [
    "generate_walks([(0, 0)], 2)"
   ]
  },
  {
   "cell_type": "markdown",
   "metadata": {},
   "source": [
    "## Store the walks\n",
    "\n",
    "Printing walks is nice, but not very useful. Better construct a list of all walks, for postprocessing. To this end, add a `cache` parameter, which stores all generated walks."
   ]
  },
  {
   "cell_type": "code",
   "execution_count": 4,
   "metadata": {},
   "outputs": [],
   "source": [
    "steps = [(1, 0), (-1, 0), (0, 1), (0, -1)]\n",
    "\n",
    "def generate_walks2(path, L, cache):\n",
    "    if L == 0:\n",
    "        cache.append(path)\n",
    "    else:\n",
    "        for dx, dy in steps:\n",
    "            x, y = path[-1]\n",
    "            xy_new = (x + dx, y + dy)\n",
    "            pp = path.copy()\n",
    "            pp.append(xy_new)\n",
    "            generate_walks2(pp, L - 1, cache)"
   ]
  },
  {
   "cell_type": "code",
   "execution_count": 6,
   "metadata": {},
   "outputs": [
    {
     "data": {
      "text/plain": [
       "16"
      ]
     },
     "execution_count": 6,
     "metadata": {},
     "output_type": "execute_result"
    }
   ],
   "source": [
    "cache = []\n",
    "generate_walks2([(0, 0)], 2, cache)\n",
    "len(cache)"
   ]
  },
  {
   "cell_type": "code",
   "execution_count": 7,
   "metadata": {},
   "outputs": [
    {
     "data": {
      "text/plain": [
       "[[(0, 0), (1, 0), (2, 0)],\n",
       " [(0, 0), (1, 0), (0, 0)],\n",
       " [(0, 0), (1, 0), (1, 1)],\n",
       " [(0, 0), (1, 0), (1, -1)],\n",
       " [(0, 0), (-1, 0), (0, 0)],\n",
       " [(0, 0), (-1, 0), (-2, 0)],\n",
       " [(0, 0), (-1, 0), (-1, 1)],\n",
       " [(0, 0), (-1, 0), (-1, -1)],\n",
       " [(0, 0), (0, 1), (1, 1)],\n",
       " [(0, 0), (0, 1), (-1, 1)],\n",
       " [(0, 0), (0, 1), (0, 2)],\n",
       " [(0, 0), (0, 1), (0, 0)],\n",
       " [(0, 0), (0, -1), (1, -1)],\n",
       " [(0, 0), (0, -1), (-1, -1)],\n",
       " [(0, 0), (0, -1), (0, 0)],\n",
       " [(0, 0), (0, -1), (0, -2)]]"
      ]
     },
     "execution_count": 7,
     "metadata": {},
     "output_type": "execute_result"
    }
   ],
   "source": [
    "cache"
   ]
  },
  {
   "cell_type": "markdown",
   "metadata": {},
   "source": [
    "## Task 0\n",
    "\n",
    "Compute the average end-to-end distance of random walks of a given length. What is the scaling of the end-to-end distance with the length of the walk? What is the scaling of the mean *square* end-to-end distance with the length?"
   ]
  },
  {
   "cell_type": "code",
   "execution_count": 49,
   "metadata": {},
   "outputs": [],
   "source": [
    "import statistics\n",
    "\n",
    "def average_end_to_end_distance(cache):\n",
    "#соберем покоординатную статистику из каждого построенного маршрута, \n",
    "#где x1, y1 - координаты начальной позиции, x2, y2 - конечная позиция\n",
    "    x1 = x2 = y1 = y2 = []\n",
    "    for i in range(len(cache)):\n",
    "        x_vector = cache[i]\n",
    "        start = x_vector[0]\n",
    "#все координаты записываем в указанные list\n",
    "        x1.append(start[0])\n",
    "        y1.append(start[1])\n",
    "        end = x_vector[-1]\n",
    "        x2.append(end[0])\n",
    "        y2.append(end[1])\n",
    "#используя встроенные функции, находим координаты среднего вектора\n",
    "    start = (statistics.mean(x1), statistics.mean(y1))\n",
    "    end = (statistics.mean(x2), statistics.mean(y2))\n",
    "    return (start, end)"
   ]
  },
  {
   "cell_type": "code",
   "execution_count": 50,
   "metadata": {},
   "outputs": [],
   "source": [
    "import math\n",
    "\n",
    "def the_end_to_end_distance(cache):\n",
    "#посчитаем длину каждого вектора из cache (норму)\n",
    "    sqrt_distance = 0\n",
    "    for i in range(len(cache)):\n",
    "#sqrt - функция из библиотеки math, вычисляющая значение квадратного корня\n",
    "        sqrt_distance += math.sqrt((cache[i][0][0] - cache[i][-1][0])**2 + (cache[i][0][1] - cache[i][-1][1])**2)\n",
    "#функция возвращает среднее значение длин векторов\n",
    "    return sqrt_distance/len(cache)"
   ]
  },
  {
   "cell_type": "code",
   "execution_count": 51,
   "metadata": {},
   "outputs": [],
   "source": [
    "def mean_square_the_end_to_end_distance(cache):\n",
    "    distance = 0\n",
    "    for i in range(len(cache)):\n",
    "#вычисляем квадрат нормы\n",
    "        distance += (cache[i][0][0] - cache[i][-1][0])**2 + (cache[i][0][1] - cache[i][-1][1])**2\n",
    "#функция возвращает среднее значение \n",
    "    return distance/len(cache)"
   ]
  },
  {
   "cell_type": "code",
   "execution_count": 54,
   "metadata": {},
   "outputs": [],
   "source": [
    "#вывод всех показателей для заданного количества шагов\n",
    "def ansver(L):\n",
    "    path = [(0, 0)]\n",
    "    cache = []\n",
    "    generate_walks2(path, L, cache)\n",
    "#количество шагов, средний вектор, средняя длина векторов, квадрат нормы векторов\n",
    "    return (L, average_end_to_end_distance(cache), round(the_end_to_end_distance(cache), 2), mean_square_the_end_to_end_distance(cache))"
   ]
  },
  {
   "cell_type": "code",
   "execution_count": 55,
   "metadata": {},
   "outputs": [
    {
     "name": "stdout",
     "output_type": "stream",
     "text": [
      "(1, ((0, 0), (0, 0)), 1.0, 1.0)\n",
      "(2, ((0, 0), (0, 0)), 1.21, 2.0)\n",
      "(3, ((0, 0), (0, 0)), 1.59, 3.0)\n",
      "(4, ((0, 0), (0, 0)), 1.75, 4.0)\n",
      "(5, ((0, 0), (0, 0)), 2.02, 5.0)\n",
      "(6, ((0, 0), (0, 0)), 2.16, 6.0)\n",
      "(7, ((0, 0), (0, 0)), 2.37, 7.0)\n",
      "(8, ((0, 0), (0, 0)), 2.5, 8.0)\n",
      "(9, ((0, 0), (0, 0)), 2.68, 9.0)\n"
     ]
    }
   ],
   "source": [
    "for L in range(1, 10):\n",
    "    print(ansver(L))"
   ]
  },
  {
   "cell_type": "markdown",
   "metadata": {},
   "source": [
    "# I. Generate all SAWs on a 2D square lattice\n",
    "\n",
    "A self-avoiding walk is a random walk where a lattice site can only be visited once."
   ]
  },
  {
   "cell_type": "code",
   "execution_count": 44,
   "metadata": {},
   "outputs": [],
   "source": [
    "steps = [(1, 0), (-1, 0), (0, 1), (0, -1)]\n",
    "\n",
    "def generate_SAWs(path, L, cache):\n",
    "#если число оставшихся шагов равно 0, то выводим на экран путь\n",
    "    if L==0:\n",
    "        cache.append(path)\n",
    "    else:\n",
    "#если количество оставшихся шагов ненулевое, то к последнему записанному шагу добавим все возможные направления движения\n",
    "        for dx, dy in steps:\n",
    "            x, y = path[-1]\n",
    "            next_step = (x + dx, y + dy)\n",
    "#создание копии текущего маршрута для избежания потери какого-то из путей\n",
    "            pp = path.copy()\n",
    "#проверка на пройденные шаги: есть ли в проложенном маршруте следующий узел\n",
    "            for k in range(len(pp)):\n",
    "                if next_step == pp[k]:\n",
    "                    break\n",
    "            else:\n",
    "#добавление шага к маршруту\n",
    "                pp.append(next_step)\n",
    "#генерация дальнейшего маршрута\n",
    "                generate_SAWs(pp, L - 1, cache)"
   ]
  },
  {
   "cell_type": "markdown",
   "metadata": {},
   "source": [
    "## Task 1\n",
    "\n",
    "How many walks of a given length are there? What is the mean end-to-end distance of walks of a given length? What is mean *square* of the end-to-end distance?"
   ]
  },
  {
   "cell_type": "code",
   "execution_count": 58,
   "metadata": {},
   "outputs": [
    {
     "name": "stdout",
     "output_type": "stream",
     "text": [
      "Количество шагов =  1 , Количество возможных путей =  4\n",
      "Количество шагов =  2 , Количество возможных путей =  12\n",
      "Количество шагов =  3 , Количество возможных путей =  36\n",
      "Количество шагов =  4 , Количество возможных путей =  100\n",
      "Количество шагов =  5 , Количество возможных путей =  284\n",
      "Количество шагов =  6 , Количество возможных путей =  780\n",
      "Количество шагов =  7 , Количество возможных путей =  2172\n",
      "Количество шагов =  8 , Количество возможных путей =  5916\n",
      "Количество шагов =  9 , Количество возможных путей =  16268\n"
     ]
    }
   ],
   "source": [
    "for L in range(1, 10):\n",
    "    path = [(0, 0)]\n",
    "    cache = []\n",
    "    generate_SAWs(path, L, cache)\n",
    "    print(\"Количество шагов = \",L,\", Количество возможных путей = \", len(cache))"
   ]
  },
  {
   "cell_type": "code",
   "execution_count": 66,
   "metadata": {},
   "outputs": [],
   "source": [
    "#вывод всех показателей для заданного количества шагов\n",
    "def ansver_2(L):\n",
    "    path = [(0, 0)]\n",
    "    cache = []\n",
    "    generate_SAWs(path, L, cache)\n",
    "#количество шагов, средний вектор, средняя длина векторов, квадрат нормы векторов\n",
    "    return (L, average_end_to_end_distance(cache), round(the_end_to_end_distance(cache), 2), round(mean_square_the_end_to_end_distance(cache), 2))"
   ]
  },
  {
   "cell_type": "code",
   "execution_count": 67,
   "metadata": {},
   "outputs": [
    {
     "name": "stdout",
     "output_type": "stream",
     "text": [
      "(1, ((0, 0), (0, 0)), 1.0, 1.0)\n",
      "(2, ((0, 0), (0, 0)), 1.61, 2.67)\n",
      "(3, ((0, 0), (0, 0)), 2.05, 4.56)\n",
      "(4, ((0, 0), (0, 0)), 2.56, 7.04)\n",
      "(5, ((0, 0), (0, 0)), 2.95, 9.56)\n",
      "(6, ((0, 0), (0, 0)), 3.39, 12.57)\n",
      "(7, ((0, 0), (0, 0)), 3.75, 15.56)\n",
      "(8, ((0, 0), (0, 0)), 4.15, 19.01)\n",
      "(9, ((0, 0), (0, 0)), 4.49, 22.41)\n"
     ]
    }
   ],
   "source": [
    "for L in range(1, 10):\n",
    "    print(ansver_2(L))"
   ]
  },
  {
   "cell_type": "markdown",
   "metadata": {},
   "source": [
    "## Extra tasks (for fun, no credit, a possible basis of a course project)\n",
    "\n",
    "1. Triangular lattice\n",
    "2. Rewrite the recursive algorithm to use a queue"
   ]
  },
  {
   "cell_type": "code",
   "execution_count": null,
   "metadata": {
    "collapsed": true
   },
   "outputs": [],
   "source": []
  }
 ],
 "metadata": {
  "kernelspec": {
   "display_name": "Python 3",
   "language": "python",
   "name": "python3"
  },
  "language_info": {
   "codemirror_mode": {
    "name": "ipython",
    "version": 3
   },
   "file_extension": ".py",
   "mimetype": "text/x-python",
   "name": "python",
   "nbconvert_exporter": "python",
   "pygments_lexer": "ipython3",
   "version": "3.6.5"
  }
 },
 "nbformat": 4,
 "nbformat_minor": 2
}
