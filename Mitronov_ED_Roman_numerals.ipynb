{
 "cells": [
  {
   "cell_type": "markdown",
   "metadata": {},
   "source": [
    "# Roman numerals"
   ]
  },
  {
   "cell_type": "markdown",
   "metadata": {},
   "source": [
    "## I. Roman numerals to decimals\n",
    "\n",
    "Write a function which receives a Roman numeral written out as a string, and returns an integer representing the decimal form of the input number. "
   ]
  },
  {
   "cell_type": "code",
   "execution_count": 17,
   "metadata": {},
   "outputs": [],
   "source": [
    "mapping = {\"I\" : 1, \n",
    "           \"V\" : 5,\n",
    "           \"X\" : 10,\n",
    "           \"L\" : 50,\n",
    "           \"C\" : 100,\n",
    "           \"D\" : 500,\n",
    "           \"M\" : 1000}"
   ]
  },
  {
   "cell_type": "code",
   "execution_count": 18,
   "metadata": {},
   "outputs": [],
   "source": [
    "def roman_to_decimal(rom):\n",
    "    \"\"\"Convert a Roman numeral to decimal.\n",
    "    \n",
    "    Parameters\n",
    "    ----------\n",
    "    rom : str\n",
    "        A Roman numeral representing a positive integer.\n",
    "        \n",
    "    Returns\n",
    "    -------\n",
    "    dec : int\n",
    "        The result of conversion of `rom` into a decimal system.\n",
    "    \"\"\"\n",
    "#определяем переменную с будущей цифрой как 0\n",
    "    dec = 0\n",
    "#проверяем каждый символ по порядку\n",
    "    for count_symbol, value_in_dec in enumerate(rom):\n",
    "#если количество рассмотренных символов меньше, чем длина римской цифры,\n",
    "# и в арабском эквиваленте текущий символ меньше следующего в переводимой цифре,\n",
    "# то из конечного числа цифра вычитается, иначе прибавляется\n",
    "        if (count_symbol + 1) < len(rom) and mapping.get(value_in_dec) < mapping.get(rom[count_symbol + 1]):\n",
    "            dec -= mapping.get(value_in_dec)\n",
    "        else:\n",
    "            dec += mapping.get(value_in_dec)\n",
    "    return dec"
   ]
  },
  {
   "cell_type": "markdown",
   "metadata": {},
   "source": [
    "Here are some tests for you to test your code. Your code must pass all of them. You also need to come up with several more tests (your choice)."
   ]
  },
  {
   "cell_type": "code",
   "execution_count": 19,
   "metadata": {},
   "outputs": [
    {
     "name": "stdout",
     "output_type": "stream",
     "text": [
      "True\n",
      "True\n",
      "True\n",
      "True\n",
      "True\n",
      "True\n",
      "True\n",
      "True\n",
      "False : XIV != 13\n",
      "True\n"
     ]
    }
   ],
   "source": [
    "test_pairs = [(\"IX\", 9), (\"XI\", 11), (\"MCCII\", 1202), (\"MMXVIII\", 2018), (\"XLIX\", 49),\n",
    "             (\"CLXXVI\", 176), (\"CMXLV\", 945), (\"MMDCCLIII\", 2753), (\"XIV\", 13), (\"DCCCLII\", 852)]\n",
    "\n",
    "for rom, dec in test_pairs:\n",
    "    converted = roman_to_decimal(rom)\n",
    "    if converted == dec:\n",
    "        print(converted == dec)\n",
    "    else:\n",
    "        print(converted == dec, ':', str(rom), '!=', str(dec))"
   ]
  },
  {
   "cell_type": "markdown",
   "metadata": {},
   "source": [
    "## II. Decimal numbers to roman numerals.\n",
    "\n",
    "The maximum grade for first task (Roman to decimal) is 7 on the 10-point HSE scale. For extra credit, complete the second task: *given a decimal number, convert it to the Roman form*."
   ]
  },
  {
   "cell_type": "code",
   "execution_count": 20,
   "metadata": {},
   "outputs": [],
   "source": [
    "mapping_1 = {'M':1000,\n",
    "           'CM':900,\n",
    "           'D':500,\n",
    "           'CD':400,\n",
    "           'C':100,\n",
    "           'XC':90,\n",
    "           'L':50,\n",
    "           'XL':40,\n",
    "           'X':10,\n",
    "           'IX':9,\n",
    "           'V':5,\n",
    "           'IV':4,\n",
    "           'I':1}"
   ]
  },
  {
   "cell_type": "code",
   "execution_count": 39,
   "metadata": {},
   "outputs": [],
   "source": [
    "def decimal_to_roman(dec):\n",
    "    \"\"\"Convert a decimal to the Roman form.\n",
    "    \n",
    "    Parameters\n",
    "    ----------\n",
    "    dec : int\n",
    "        A positive integer number\n",
    "    \n",
    "    Returns\n",
    "    -------\n",
    "    rom : str\n",
    "        A string representation of a Roman numeral form of `dec`.\n",
    "    \"\"\"\n",
    "#если предложенное к переводу число не входит в указанный диапазон, то выводится сообщение\n",
    "    if dec < 0 or dec > 3999:\n",
    "        return ('Перевод числа невозможен без специальных символов')\n",
    "#создается чистая строка\n",
    "    rom = ''\n",
    "#идет перебор всех возможных символов\n",
    "    for symbol_in_rom in mapping_1.keys():\n",
    "#в строку записывается символ в количестве, равном целой части деления \n",
    "#переводимого числа на арабский эквивалент символа\n",
    "        rom += symbol_in_rom * (dec // mapping_1[symbol_in_rom])\n",
    "#из числа вычитается уже записанное значение\n",
    "        dec -= mapping_1[symbol_in_rom] * (dec // mapping_1[symbol_in_rom])\n",
    "    return rom"
   ]
  },
  {
   "cell_type": "markdown",
   "metadata": {},
   "source": [
    "You need to come up with test cases to show that your conversion works as expected. \n",
    "NB: the conversion is ambiguous in some cases. Any valid conversion is accepted. "
   ]
  },
  {
   "cell_type": "code",
   "execution_count": 41,
   "metadata": {},
   "outputs": [
    {
     "name": "stdout",
     "output_type": "stream",
     "text": [
      "True\n",
      "True\n",
      "True\n",
      "True\n",
      "True\n",
      "True\n",
      "True\n",
      "True\n",
      "False : 13 != XIV\n",
      "True\n",
      "Перевод числа невозможен без специальных символов\n",
      "Перевод числа невозможен без специальных символов\n"
     ]
    }
   ],
   "source": [
    "test_pairs = [(\"IX\", 9), (\"XI\", 11), (\"MCCII\", 1202), (\"MMXVIII\", 2018), (\"XLIX\", 49),\n",
    "             (\"CLXXVI\", 176), (\"CMXLV\", 945), (\"MMDCCLIII\", 2753), (\"XIV\", 13), (\"DCCCLII\", 852)]\n",
    "\n",
    "for rom, dec in test_pairs:\n",
    "    converted = decimal_to_roman(dec)\n",
    "    if converted == rom:\n",
    "        print(converted == rom)\n",
    "    else:\n",
    "        print(converted == rom, ':', str(dec), '!=', str(rom))\n",
    "\n",
    "print(decimal_to_roman(-1))\n",
    "print(decimal_to_roman(5000))"
   ]
  },
  {
   "cell_type": "code",
   "execution_count": null,
   "metadata": {},
   "outputs": [],
   "source": []
  }
 ],
 "metadata": {
  "kernelspec": {
   "display_name": "Python 3",
   "language": "python",
   "name": "python3"
  },
  "language_info": {
   "codemirror_mode": {
    "name": "ipython",
    "version": 3
   },
   "file_extension": ".py",
   "mimetype": "text/x-python",
   "name": "python",
   "nbconvert_exporter": "python",
   "pygments_lexer": "ipython3",
   "version": "3.6.5"
  }
 },
 "nbformat": 4,
 "nbformat_minor": 2
}
