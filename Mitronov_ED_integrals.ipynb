{
 "cells": [
  {
   "cell_type": "code",
   "execution_count": 119,
   "metadata": {},
   "outputs": [],
   "source": [
    "import numpy as np\n",
    "import heapq\n",
    "import matplotlib.pyplot as plt\n",
    "%matplotlib inline\n",
    "plt.style.use('fivethirtyeight')"
   ]
  },
  {
   "cell_type": "code",
   "execution_count": 124,
   "metadata": {},
   "outputs": [],
   "source": [
    "#задание функции и вычисление формулы Ньютона-Лейбница\n",
    "def f(x):\n",
    "    return np.exp(-x)\n",
    "\n",
    "a, b = 0, 20\n",
    "\n",
    "F = lambda a, b: -np.exp(-b) + np.exp(-a)"
   ]
  },
  {
   "cell_type": "code",
   "execution_count": 125,
   "metadata": {},
   "outputs": [],
   "source": [
    "#метод срединных прямоугольников с фиксированной сеткой\n",
    "def crect(f, a, b, npts):\n",
    "    h = (b - a) / npts\n",
    "    summ = 0\n",
    "    for j in range(npts):\n",
    "        x = a + h*(j + 0.5)\n",
    "        summ += f(x)\n",
    "    return summ * h"
   ]
  },
  {
   "cell_type": "code",
   "execution_count": 139,
   "metadata": {},
   "outputs": [
    {
     "name": "stdout",
     "output_type": "stream",
     "text": [
      "   10 : 0.850918\n",
      "21 µs ± 933 ns per loop (mean ± std. dev. of 7 runs, 100000 loops each)\n",
      "=================\n",
      "  100 : 0.998335\n",
      "208 µs ± 17.9 µs per loop (mean ± std. dev. of 7 runs, 1000 loops each)\n",
      "=================\n",
      " 1000 : 0.999983\n",
      "1.99 ms ± 177 µs per loop (mean ± std. dev. of 7 runs, 100 loops each)\n",
      "=================\n",
      "10000 : 1\n",
      "19.8 ms ± 877 µs per loop (mean ± std. dev. of 7 runs, 100 loops each)\n",
      "=================\n"
     ]
    }
   ],
   "source": [
    "#значение интеграла и время выполнения\n",
    "for n in (10, 100, 1000, 10000):\n",
    "    print(\"%5.5g : %g\" % (n, crect(f, a, b, n)))\n",
    "    %timeit crect(f, a, b, n)\n",
    "    print('=================')"
   ]
  },
  {
   "cell_type": "code",
   "execution_count": null,
   "metadata": {},
   "outputs": [],
   "source": [
    "def make_rect(a, b, f):\n",
    "    \"\"\"Make a rectangle for the interval [a, b]\"\"\"\n",
    "    rect = (a, b-a)\n",
    "    xm = a + rect[1] / 2.\n",
    "    return (-f(xm) * rect[1], rect)"
   ]
  },
  {
   "cell_type": "code",
   "execution_count": 113,
   "metadata": {},
   "outputs": [],
   "source": [
    "def get_max_elem(lst, key=None):\n",
    "    \"\"\"Find and remove the maximum element from the list.\n",
    "    \n",
    "    Find the max element (according to the parameter `key`, which is a callable),\n",
    "    remove it from the list, and return both the element and the rest.\n",
    "    \"\"\"\n",
    "    #Pop and return the smallest item from the heap, maintaining the heap invariant. \n",
    "    #If the heap is empty, IndexError is raised.\n",
    "    # Раз производится сравнение отрицательных чисел, \n",
    "    #   то минимальный элемент соответствует прямоугольнику с наибольшей площадью.\n",
    "    elem = heapq.heappop(lst)\n",
    "    \n",
    "    return elem, lst\n",
    "\n",
    "def adapt_rect_list(f, a, b, npts):\n",
    "    \"\"\"Integrate f(x) from a to b using npts steps of the adaptive algorithm.\n",
    "    \"\"\"\n",
    "    lst = []\n",
    "\n",
    "    # start from a single rectangle\n",
    "    item = make_rect(a, b, f)\n",
    "    lst.append(item)\n",
    "    \n",
    "    # loop\n",
    "    for _ in range(npts):\n",
    "        # get the largest one\n",
    "        rect, lst = get_max_elem(lst, lambda x: x[0])\n",
    "        w, (start, width) = rect\n",
    "                \n",
    "        # and split it into two halves\n",
    "        c = start + width / 2.\n",
    "        \n",
    "        rect1 = make_rect(start, c, f)\n",
    "        rect2 = make_rect(c, start + width, f)\n",
    "        \n",
    "        #добавление новых прямоугольников в list с сортировкой\n",
    "        heapq.heappush(lst, rect1)\n",
    "        heapq.heappush(lst, rect2)\n",
    "        \n",
    "    # collect the answer\n",
    "    return -sum(w for w, r in lst), lst"
   ]
  },
  {
   "cell_type": "code",
   "execution_count": 128,
   "metadata": {},
   "outputs": [],
   "source": [
    "# A rectangle is (start, width)\n",
    "# A list element is (-weight, (start, width))\n",
    "\n",
    "def get_max_elem_1(lst, key=None):\n",
    "    \"\"\"Find and remove the maximum element from the list.\n",
    "    \n",
    "    Find the max element (according to the parameter `key`, which is a callable),\n",
    "    remove it from the list, and return both the element and the rest.\n",
    "    \"\"\"\n",
    "    if key is None:\n",
    "        # use the identity function\n",
    "        key = lambda x: x\n",
    "    \n",
    "    # find the max element\n",
    "    elem = max(lst, key=key)\n",
    "    \n",
    "    # find its position in the list\n",
    "    idx = lst.index(elem)\n",
    "    \n",
    "    return elem, lst[:idx] + lst[idx+1:]\n",
    "\n",
    "    \n",
    "def adapt_rect_list_1(f, a, b, npts):\n",
    "    \"\"\"Integrate f(x) from a to b using npts steps of the adaptive algorithm.\n",
    "    \"\"\"\n",
    "    lst = []\n",
    "\n",
    "    # start from a single rectangle\n",
    "    item = make_rect(a, b, f)\n",
    "    lst.append(item)\n",
    "    \n",
    "    # loop\n",
    "    for _ in range(npts):\n",
    "        # get the largest one\n",
    "        rect, lst = get_max_elem_1(lst, lambda x: -x[0])\n",
    "        w, (start, width) = rect\n",
    "                \n",
    "        # and split it into two halves\n",
    "        c = start + width / 2.\n",
    "        \n",
    "        rect1 = make_rect(start, c, f)\n",
    "        rect2 = make_rect(c, start + width, f)\n",
    "        \n",
    "        lst.append(rect1)\n",
    "        lst.append(rect2)\n",
    "        \n",
    "    # collect the answer\n",
    "    return -sum(w for w, r in lst), lst"
   ]
  },
  {
   "cell_type": "code",
   "execution_count": 140,
   "metadata": {},
   "outputs": [
    {
     "name": "stdout",
     "output_type": "stream",
     "text": [
      "adapt_heapq: n, res =  5 0.955269838834778\n",
      "adapt_class: n, res =  5 0.9552698388347781\n",
      "=================\n",
      "adapt_heapq: n, res =  25 0.978671896242808\n",
      "adapt_class: n, res =  25 0.9786718962428081\n",
      "=================\n",
      "adapt_heapq: n, res =  125 0.9956502001607697\n",
      "adapt_class: n, res =  125 0.9956502001607699\n",
      "=================\n",
      "adapt_heapq: n, res =  250 0.9959491604791236\n",
      "adapt_class: n, res =  250 0.9959491604791242\n",
      "=================\n",
      "adapt_heapq: n, res =  500 0.9960027891786782\n",
      "adapt_class: n, res =  500 0.9960027891786778\n",
      "=================\n",
      "adapt_heapq: n, res =  1000 0.9997391610745805\n",
      "adapt_class: n, res =  1000 0.9997391610745809\n",
      "=================\n",
      "adapt_heapq: n, res =  5000 0.9999405212446223\n",
      "adapt_class: n, res =  5000 0.999940521244624\n",
      "=================\n",
      "adapt_heapq: n, res =  10000 0.9999470177107865\n",
      "adapt_class: n, res =  10000 0.9999470177107864\n",
      "=================\n"
     ]
    }
   ],
   "source": [
    "#вывод результатов разных подходов расчета по адаптивной сетке\n",
    "for n in (5, 25, 125, 250, 500, 1000, 5000, 10000):\n",
    "    res, lst = adapt_rect_list(f, a, b, n)\n",
    "    print ('adapt_heapq: n, res = ', n, res)\n",
    "    res, lst = adapt_rect_list_1(f, a, b, n)\n",
    "    print ('adapt_class: n, res = ', n, res)\n",
    "    print('=================')"
   ]
  },
  {
   "cell_type": "code",
   "execution_count": 141,
   "metadata": {},
   "outputs": [
    {
     "name": "stdout",
     "output_type": "stream",
     "text": [
      "4.68 ms ± 125 µs per loop (mean ± std. dev. of 7 runs, 100 loops each)\n",
      "84 ms ± 2.54 ms per loop (mean ± std. dev. of 7 runs, 10 loops each)\n"
     ]
    }
   ],
   "source": [
    "#время выполнения программ\n",
    "%timeit adapt_rect_list(f, a, b, npts=1000)\n",
    "%timeit adapt_rect_list_1(f, a, b, npts=1000)"
   ]
  },
  {
   "cell_type": "code",
   "execution_count": 142,
   "metadata": {},
   "outputs": [
    {
     "data": {
      "image/png": "[encoded data removed]",
      "text/plain": [
       "<Figure size 432x288 with 1 Axes>"
      ]
     },
     "metadata": {},
     "output_type": "display_data"
    }
   ],
   "source": [
    "#графическое отображение скорости сходимости\n",
    "res1 = []\n",
    "res2 = []\n",
    "a, b = 0, 20\n",
    "npts = []\n",
    "for n in range(5,55,5):\n",
    "    npts.append(n)\n",
    "    res1.append(abs(adapt_rect_list(f, a, b, n)[0]-F(a,b)))\n",
    "    res2.append(abs(crect(f,a,b,n)-F(a,b)))\n",
    "\n",
    "plt.figure()\n",
    "plt.plot(npts,res1,label = 'adaptive')\n",
    "plt.plot(npts,res2,label = 'fixed')\n",
    "plt.ylabel('Error')\n",
    "plt.xlabel('n')\n",
    "plt.legend()\n",
    "plt.plot()\n",
    "plt.show()"
   ]
  },
  {
   "cell_type": "code",
   "execution_count": null,
   "metadata": {},
   "outputs": [],
   "source": []
  }
 ],
 "metadata": {
  "kernelspec": {
   "display_name": "Python 3",
   "language": "python",
   "name": "python3"
  },
  "language_info": {
   "codemirror_mode": {
    "name": "ipython",
    "version": 3
   },
   "file_extension": ".py",
   "mimetype": "text/x-python",
   "name": "python",
   "nbconvert_exporter": "python",
   "pygments_lexer": "ipython3",
   "version": "3.6.5"
  }
 },
 "nbformat": 4,
 "nbformat_minor": 2
}
